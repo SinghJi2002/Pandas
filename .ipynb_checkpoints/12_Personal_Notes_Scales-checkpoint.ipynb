{
 "cells": [
  {
   "cell_type": "markdown",
   "id": "611154e8",
   "metadata": {},
   "source": [
    "# Scale\n",
    "We have already discussed about different types of commonly used scales in pandas library. Now we will here try to construct scale by ourselves using python dataframes. More specifically Categorical Scale."
   ]
  },
  {
   "cell_type": "code",
   "execution_count": 1,
   "id": "2b7d1950",
   "metadata": {},
   "outputs": [],
   "source": [
    "import pandas as pd\n",
    "import numpy as np"
   ]
  },
  {
   "cell_type": "code",
   "execution_count": 2,
   "id": "4e45391a",
   "metadata": {},
   "outputs": [
    {
     "data": {
      "text/html": [
       "<div>\n",
       "<style scoped>\n",
       "    .dataframe tbody tr th:only-of-type {\n",
       "        vertical-align: middle;\n",
       "    }\n",
       "\n",
       "    .dataframe tbody tr th {\n",
       "        vertical-align: top;\n",
       "    }\n",
       "\n",
       "    .dataframe thead th {\n",
       "        text-align: right;\n",
       "    }\n",
       "</style>\n",
       "<table border=\"1\" class=\"dataframe\">\n",
       "  <thead>\n",
       "    <tr style=\"text-align: right;\">\n",
       "      <th></th>\n",
       "      <th>Grades</th>\n",
       "    </tr>\n",
       "  </thead>\n",
       "  <tbody>\n",
       "    <tr>\n",
       "      <th>Execellent</th>\n",
       "      <td>A+</td>\n",
       "    </tr>\n",
       "    <tr>\n",
       "      <th>Execellent</th>\n",
       "      <td>A</td>\n",
       "    </tr>\n",
       "    <tr>\n",
       "      <th>Execellent</th>\n",
       "      <td>A-</td>\n",
       "    </tr>\n",
       "    <tr>\n",
       "      <th>Very Good</th>\n",
       "      <td>B+</td>\n",
       "    </tr>\n",
       "    <tr>\n",
       "      <th>Very Good</th>\n",
       "      <td>B</td>\n",
       "    </tr>\n",
       "    <tr>\n",
       "      <th>Very Good</th>\n",
       "      <td>B-</td>\n",
       "    </tr>\n",
       "    <tr>\n",
       "      <th>Good</th>\n",
       "      <td>C+</td>\n",
       "    </tr>\n",
       "    <tr>\n",
       "      <th>Good</th>\n",
       "      <td>C</td>\n",
       "    </tr>\n",
       "    <tr>\n",
       "      <th>Good</th>\n",
       "      <td>C-</td>\n",
       "    </tr>\n",
       "    <tr>\n",
       "      <th>Average</th>\n",
       "      <td>D</td>\n",
       "    </tr>\n",
       "    <tr>\n",
       "      <th>Bad</th>\n",
       "      <td>E</td>\n",
       "    </tr>\n",
       "    <tr>\n",
       "      <th>Fail</th>\n",
       "      <td>F</td>\n",
       "    </tr>\n",
       "  </tbody>\n",
       "</table>\n",
       "</div>"
      ],
      "text/plain": [
       "           Grades\n",
       "Execellent     A+\n",
       "Execellent      A\n",
       "Execellent     A-\n",
       "Very Good      B+\n",
       "Very Good       B\n",
       "Very Good      B-\n",
       "Good           C+\n",
       "Good            C\n",
       "Good           C-\n",
       "Average         D\n",
       "Bad             E\n",
       "Fail            F"
      ]
     },
     "execution_count": 2,
     "metadata": {},
     "output_type": "execute_result"
    }
   ],
   "source": [
    "#Lets create a data frame\n",
    "dataframe=pd.DataFrame([\"A+\",\"A\",\"A-\",\"B+\",\"B\",\"B-\",\"C+\",\"C\",\"C-\",\"D\",\"E\",\"F\"],\n",
    "                       index=[\"Execellent\",\"Execellent\",\"Execellent\",\"Very Good\",\"Very Good\",\"Very Good\",\"Good\",\"Good\",\"Good\"\n",
    "                             ,\"Average\",\"Bad\",\"Fail\"],\n",
    "                       columns=[\"Grades\"])\n",
    "dataframe"
   ]
  },
  {
   "cell_type": "code",
   "execution_count": 3,
   "id": "7c6ebc29",
   "metadata": {},
   "outputs": [
    {
     "data": {
      "text/plain": [
       "Grades    object\n",
       "dtype: object"
      ]
     },
     "execution_count": 3,
     "metadata": {},
     "output_type": "execute_result"
    }
   ],
   "source": [
    "#Let us now see the datatpye present in our dataframe\n",
    "dataframe.dtypes"
   ]
  },
  {
   "cell_type": "markdown",
   "id": "762ccc03",
   "metadata": {},
   "source": [
    "As observable, the general datatype of the dataframe is found to be objects. But we have mentioned we want scale dataframe rather than a object dataframe hence we will see convertion of dtypes from objects to catagories, remember that catagories is one of the multiple types of scales supported on pandas library."
   ]
  },
  {
   "cell_type": "markdown",
   "id": "698f3634",
   "metadata": {},
   "source": [
    "\n",
    "Though we have used it previously, I do rather like to mention it again. There are a few methods via which dtypes of variables can be changed. One of them is ofcourse type casting. But there is also a method called __astype()__\n",
    "\n",
    "The general syntax of usage of __astype__ is \n",
    "###### < Variable Whose Dtype is To Be Converted >.astype(\"< datatype you want to convert it to >\")\n",
    "\n",
    "Lets see a case where we are converting our object type elements of dataframe to __catagory__"
   ]
  },
  {
   "cell_type": "code",
   "execution_count": 4,
   "id": "6f7ca267",
   "metadata": {},
   "outputs": [
    {
     "data": {
      "text/plain": [
       "Execellent    A+\n",
       "Execellent     A\n",
       "Execellent    A-\n",
       "Very Good     B+\n",
       "Very Good      B\n",
       "Very Good     B-\n",
       "Good          C+\n",
       "Good           C\n",
       "Good          C-\n",
       "Average        D\n",
       "Bad            E\n",
       "Fail           F\n",
       "Name: Grades, dtype: category\n",
       "Categories (12, object): ['A', 'A+', 'A-', 'B', ..., 'C-', 'D', 'E', 'F']"
      ]
     },
     "execution_count": 4,
     "metadata": {},
     "output_type": "execute_result"
    }
   ],
   "source": [
    "newSeries=dataframe[\"Grades\"].astype(\"category\")\n",
    "newSeries"
   ]
  },
  {
   "cell_type": "markdown",
   "id": "a1fbfe75",
   "metadata": {},
   "source": [
    "Up until now what we did was to declare catagories. But to perform operations we clearly need to setup the orders of the availabe catagories. Lets us now just to that.\n",
    "\n",
    "How?\n",
    "\n",
    "Well in pandas the default method of creating categories is add follows\n",
    "###### < Variable >=pandas.CategoricalDtype(catagories=[ List of catagories in ascending order],ordered=True)\n",
    "Let see example below."
   ]
  },
  {
   "cell_type": "code",
   "execution_count": 5,
   "id": "fb81aa45",
   "metadata": {},
   "outputs": [],
   "source": [
    "#Sample for catagories declaration\n",
    "myCatagories=pd.CategoricalDtype(categories=[\"F\",\"E\",\"D\",\"C-\",\"C\",\"C+\",\"B-\",\"B\",\"B+\",\"A-\",\"A\",\"A+\"],ordered=True)\n",
    "newDataset1=dataframe[\"Grades\"].astype(myCatagories)\n",
    "#lets understand what just happened in the above code. We firstly are creating a new series in \"newDataset1\". Now we are \n",
    "#extracting the grades column of the a pre-existing dataframe \"dataframe\" for further operations. What happens next is we \n",
    "#using this column called in conjunction with \"astype\" function and in that astype function we are passing the category object\n",
    "#we created previously. What will be the effect of this? Well the values of the Grades column of dataframe \"dataframe\" will \n",
    "#be copied to the new series \"newDataset1\" unchanged. But what will change is that we have now defined order of the catagories \n",
    "#we pre-declared in the Grades column which previously had no such thing. Advantage of doing this? Well we could easily perform\n",
    "#many functionalities. As you will see ahead."
   ]
  },
  {
   "cell_type": "code",
   "execution_count": 6,
   "id": "5c9acaf3",
   "metadata": {},
   "outputs": [
    {
     "data": {
      "text/plain": [
       "Execellent    A+\n",
       "Execellent     A\n",
       "Execellent    A-\n",
       "Very Good     B+\n",
       "Very Good      B\n",
       "Very Good     B-\n",
       "Good          C+\n",
       "Good           C\n",
       "Good          C-\n",
       "Average        D\n",
       "Bad            E\n",
       "Fail           F\n",
       "Name: Grades, dtype: category\n",
       "Categories (12, object): ['F' < 'E' < 'D' < 'C-' ... 'B+' < 'A-' < 'A' < 'A+']"
      ]
     },
     "execution_count": 6,
     "metadata": {},
     "output_type": "execute_result"
    }
   ],
   "source": [
    "newDataset1"
   ]
  },
  {
   "cell_type": "code",
   "execution_count": 7,
   "id": "b84d417c",
   "metadata": {},
   "outputs": [
    {
     "data": {
      "text/plain": [
       "CategoricalDtype(categories=['F', 'E', 'D', 'C-', 'C', 'C+', 'B-', 'B', 'B+', 'A-', 'A',\n",
       "                  'A+'],\n",
       ", ordered=True)"
      ]
     },
     "execution_count": 7,
     "metadata": {},
     "output_type": "execute_result"
    }
   ],
   "source": [
    "myCatagories"
   ]
  },
  {
   "cell_type": "markdown",
   "id": "5120f485",
   "metadata": {},
   "source": [
    "Now lets print grades greater than C\n",
    "\n",
    "We will do this in two ways:\n",
    "\n",
    "1) Via the dataframe grade column\n",
    "\n",
    "2) Via the category object we just created"
   ]
  },
  {
   "cell_type": "code",
   "execution_count": 8,
   "id": "ba6dca3e",
   "metadata": {},
   "outputs": [
    {
     "data": {
      "text/html": [
       "<div>\n",
       "<style scoped>\n",
       "    .dataframe tbody tr th:only-of-type {\n",
       "        vertical-align: middle;\n",
       "    }\n",
       "\n",
       "    .dataframe tbody tr th {\n",
       "        vertical-align: top;\n",
       "    }\n",
       "\n",
       "    .dataframe thead th {\n",
       "        text-align: right;\n",
       "    }\n",
       "</style>\n",
       "<table border=\"1\" class=\"dataframe\">\n",
       "  <thead>\n",
       "    <tr style=\"text-align: right;\">\n",
       "      <th></th>\n",
       "      <th>Grades</th>\n",
       "    </tr>\n",
       "  </thead>\n",
       "  <tbody>\n",
       "    <tr>\n",
       "      <th>Good</th>\n",
       "      <td>C+</td>\n",
       "    </tr>\n",
       "    <tr>\n",
       "      <th>Good</th>\n",
       "      <td>C-</td>\n",
       "    </tr>\n",
       "    <tr>\n",
       "      <th>Average</th>\n",
       "      <td>D</td>\n",
       "    </tr>\n",
       "    <tr>\n",
       "      <th>Bad</th>\n",
       "      <td>E</td>\n",
       "    </tr>\n",
       "    <tr>\n",
       "      <th>Fail</th>\n",
       "      <td>F</td>\n",
       "    </tr>\n",
       "  </tbody>\n",
       "</table>\n",
       "</div>"
      ],
      "text/plain": [
       "        Grades\n",
       "Good        C+\n",
       "Good        C-\n",
       "Average      D\n",
       "Bad          E\n",
       "Fail         F"
      ]
     },
     "execution_count": 8,
     "metadata": {},
     "output_type": "execute_result"
    }
   ],
   "source": [
    "#Method 1\n",
    "dataframe[dataframe[\"Grades\"]>'C']"
   ]
  },
  {
   "cell_type": "code",
   "execution_count": 9,
   "id": "b0ded8dc",
   "metadata": {},
   "outputs": [
    {
     "data": {
      "text/plain": [
       "Execellent    A+\n",
       "Execellent     A\n",
       "Execellent    A-\n",
       "Very Good     B+\n",
       "Very Good      B\n",
       "Very Good     B-\n",
       "Good          C+\n",
       "Name: Grades, dtype: category\n",
       "Categories (12, object): ['F' < 'E' < 'D' < 'C-' ... 'B+' < 'A-' < 'A' < 'A+']"
      ]
     },
     "execution_count": 9,
     "metadata": {},
     "output_type": "execute_result"
    }
   ],
   "source": [
    "newDataset1[newDataset1>\"C\"]"
   ]
  },
  {
   "cell_type": "markdown",
   "id": "fef8fdbf",
   "metadata": {},
   "source": [
    "See the correct ordered is obtained unlike the previous case."
   ]
  },
  {
   "cell_type": "markdown",
   "id": "39225018",
   "metadata": {},
   "source": [
    "\n",
    "There is another scale based operation where we find ourselves converting the scales, for instance lets say, converting interval or ratio scale to catagory scale. Now,\n",
    "this might seem a bit counter intuitive to you, since you are losing information about the value. But it’s\n",
    "commonly done in a couple of places. For instance, if you are visualizing the frequencies of categories,\n",
    "this can be an extremely useful approach, and histograms are regularly used with converted interval or ratio\n",
    "data. In addition, if you’re using a machine learning classification approach on data, you need to be using\n",
    "categorical data, so reducing dimensionality may be useful just to apply a given technique. Pandas has a\n",
    "function called cut which takes an arguments in array-like structure where we enter a column of a dataframe or a\n",
    "series. It also takes a number of bins to be used, and all bins are kept at equal spacing.\n",
    "\n",
    "Lets see an example."
   ]
  },
  {
   "cell_type": "code",
   "execution_count": 10,
   "id": "3bb1ecc5",
   "metadata": {},
   "outputs": [
    {
     "data": {
      "text/plain": [
       "STNAME\n",
       "Alabama        71339.343284\n",
       "Alaska         24490.724138\n",
       "Arizona       426134.466667\n",
       "Arkansas       38878.906667\n",
       "California    642309.586207\n",
       "Name: CENSUS2010POP, dtype: float64"
      ]
     },
     "execution_count": 10,
     "metadata": {},
     "output_type": "execute_result"
    }
   ],
   "source": [
    "# let's bring in numpy\n",
    "import numpy as np\n",
    "\n",
    "# Now we read in our dataset\n",
    "df=pd.read_csv(\"assets/census.csv\")\n",
    "\n",
    "# And we reduce this to country data\n",
    "df=df[df['SUMLEV']==50]\n",
    "\n",
    "# And for a few groups\n",
    "df=df.set_index('STNAME').groupby(level=0)['CENSUS2010POP'].agg(np.average)\n",
    "\n",
    "df.head()"
   ]
  },
  {
   "cell_type": "code",
   "execution_count": 11,
   "id": "e07fb90e",
   "metadata": {},
   "outputs": [
    {
     "data": {
      "text/plain": [
       "STNAME\n",
       "Alabama                   (11706.087, 75333.413]\n",
       "Alaska                    (11706.087, 75333.413]\n",
       "Arizona                 (390320.176, 453317.529]\n",
       "Arkansas                  (11706.087, 75333.413]\n",
       "California              (579312.234, 642309.586]\n",
       "Colorado                 (75333.413, 138330.766]\n",
       "Connecticut             (390320.176, 453317.529]\n",
       "Delaware                (264325.471, 327322.823]\n",
       "District of Columbia    (579312.234, 642309.586]\n",
       "Florida                 (264325.471, 327322.823]\n",
       "Georgia                   (11706.087, 75333.413]\n",
       "Hawaii                  (264325.471, 327322.823]\n",
       "Idaho                     (11706.087, 75333.413]\n",
       "Illinois                 (75333.413, 138330.766]\n",
       "Indiana                   (11706.087, 75333.413]\n",
       "Iowa                      (11706.087, 75333.413]\n",
       "Kansas                    (11706.087, 75333.413]\n",
       "Kentucky                  (11706.087, 75333.413]\n",
       "Louisiana                 (11706.087, 75333.413]\n",
       "Maine                    (75333.413, 138330.766]\n",
       "Maryland                (201328.118, 264325.471]\n",
       "Massachusetts           (453317.529, 516314.881]\n",
       "Michigan                 (75333.413, 138330.766]\n",
       "Minnesota                 (11706.087, 75333.413]\n",
       "Mississippi               (11706.087, 75333.413]\n",
       "Missouri                  (11706.087, 75333.413]\n",
       "Montana                   (11706.087, 75333.413]\n",
       "Nebraska                  (11706.087, 75333.413]\n",
       "Nevada                  (138330.766, 201328.118]\n",
       "New Hampshire            (75333.413, 138330.766]\n",
       "New Jersey              (390320.176, 453317.529]\n",
       "New Mexico                (11706.087, 75333.413]\n",
       "New York                (264325.471, 327322.823]\n",
       "North Carolina           (75333.413, 138330.766]\n",
       "North Dakota              (11706.087, 75333.413]\n",
       "Ohio                     (75333.413, 138330.766]\n",
       "Oklahoma                  (11706.087, 75333.413]\n",
       "Oregon                   (75333.413, 138330.766]\n",
       "Pennsylvania            (138330.766, 201328.118]\n",
       "Rhode Island            (201328.118, 264325.471]\n",
       "South Carolina           (75333.413, 138330.766]\n",
       "South Dakota              (11706.087, 75333.413]\n",
       "Tennessee                 (11706.087, 75333.413]\n",
       "Texas                    (75333.413, 138330.766]\n",
       "Utah                     (75333.413, 138330.766]\n",
       "Vermont                   (11706.087, 75333.413]\n",
       "Virginia                  (11706.087, 75333.413]\n",
       "Washington              (138330.766, 201328.118]\n",
       "West Virginia             (11706.087, 75333.413]\n",
       "Wisconsin                (75333.413, 138330.766]\n",
       "Wyoming                   (11706.087, 75333.413]\n",
       "Name: CENSUS2010POP, dtype: category\n",
       "Categories (10, interval[float64, right]): [(11706.087, 75333.413] < (75333.413, 138330.766] < (138330.766, 201328.118] < (201328.118, 264325.471] ... (390320.176, 453317.529] < (453317.529, 516314.881] < (516314.881, 579312.234] < (579312.234, 642309.586]]"
      ]
     },
     "execution_count": 11,
     "metadata": {},
     "output_type": "execute_result"
    }
   ],
   "source": [
    "# Now if we just want to make \"bins\" of each of these, we can use cut()\n",
    "pd.cut(df,10)"
   ]
  },
  {
   "cell_type": "markdown",
   "id": "6dfc70df",
   "metadata": {},
   "source": [
    "Here we see that states like alabama and alaska fall into the same category, while california and the\n",
    "disctrict of columbia fall in a very different category.\n",
    "\n",
    "Now, cutting is just one way to build categories from your data, and there are many other methods. For\n",
    "instance, cut gives you interval data, where the spacing between each category is equal sized. But sometimes\n",
    "you want to form categories based on frequency – you want the number of items in each bin to the be the\n",
    "same, instead of the spacing between bins. It really depends on what the shape of your data is, and what\n",
    "you’re planning to do with it."
   ]
  }
 ],
 "metadata": {
  "kernelspec": {
   "display_name": "Python 3 (ipykernel)",
   "language": "python",
   "name": "python3"
  },
  "language_info": {
   "codemirror_mode": {
    "name": "ipython",
    "version": 3
   },
   "file_extension": ".py",
   "mimetype": "text/x-python",
   "name": "python",
   "nbconvert_exporter": "python",
   "pygments_lexer": "ipython3",
   "version": "3.9.13"
  }
 },
 "nbformat": 4,
 "nbformat_minor": 5
}
