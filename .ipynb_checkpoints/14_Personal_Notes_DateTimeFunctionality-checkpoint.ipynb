{
 "cells": [
  {
   "cell_type": "markdown",
   "id": "2f15d99f",
   "metadata": {},
   "source": [
    "# Timestamp\n",
    "\n",
    "timestap: Generally converts strings into timestamps that can be recognised by python intrepreter. It has other functionalities too, but lets see them ahead.\n"
   ]
  },
  {
   "cell_type": "code",
   "execution_count": 1,
   "id": "2406b4da",
   "metadata": {},
   "outputs": [],
   "source": [
    "import pandas as pd\n",
    "import numpy as np"
   ]
  },
  {
   "cell_type": "code",
   "execution_count": 2,
   "id": "c1da42b9",
   "metadata": {},
   "outputs": [
    {
     "data": {
      "text/plain": [
       "Timestamp('2023-08-09 09:10:00')"
      ]
     },
     "execution_count": 2,
     "metadata": {},
     "output_type": "execute_result"
    }
   ],
   "source": [
    "#Lets see one method of to create timestamps. That converting strings to create timestamps.\n",
    "timestring=\"9 Aug 2023, 9:10AM\"\n",
    "#We above have the predeclared timestring, lets see how we convert it into time stamp\n",
    "timestamp1=pd.Timestamp(timestring)\n",
    "timestamp1"
   ]
  },
  {
   "cell_type": "code",
   "execution_count": 3,
   "id": "45c9e376",
   "metadata": {},
   "outputs": [
    {
     "data": {
      "text/plain": [
       "Timestamp('2022-08-09 09:34:23')"
      ]
     },
     "execution_count": 3,
     "metadata": {},
     "output_type": "execute_result"
    }
   ],
   "source": [
    "#Lets see another methods of creating a timestamp. That is using the default syntax call of Timestamp function.\n",
    "timestamp2=pd.Timestamp(2022,8,9,9,34,23)\n",
    "timestamp2"
   ]
  },
  {
   "cell_type": "markdown",
   "id": "624e6020",
   "metadata": {},
   "source": [
    "Let talk about a few other functions offered by the timestamp functionality. Lets talk about __isoweekday__ and elementary time stamps like __second__, __hour__, __minute__ and etc."
   ]
  },
  {
   "cell_type": "code",
   "execution_count": 4,
   "id": "970f53c4",
   "metadata": {},
   "outputs": [
    {
     "data": {
      "text/plain": [
       "2"
      ]
     },
     "execution_count": 4,
     "metadata": {},
     "output_type": "execute_result"
    }
   ],
   "source": [
    "#Let see the general syntax of using isoweekday\n",
    "timestamp2.isoweekday()\n",
    "#Now this function will return a number. Now this number will actually represent a day. 1 for Monday, 2 for Tuesday and so on."
   ]
  },
  {
   "cell_type": "markdown",
   "id": "50d09190",
   "metadata": {},
   "source": [
    "Hence its a tuesday for the given timestamp."
   ]
  },
  {
   "cell_type": "code",
   "execution_count": 5,
   "id": "c577e0c0",
   "metadata": {},
   "outputs": [
    {
     "data": {
      "text/plain": [
       "10"
      ]
     },
     "execution_count": 5,
     "metadata": {},
     "output_type": "execute_result"
    }
   ],
   "source": [
    "#Lets see a few elementary functions.\n",
    "#Minutes\n",
    "timestamp1.minute"
   ]
  },
  {
   "cell_type": "code",
   "execution_count": 6,
   "id": "d18668b3",
   "metadata": {},
   "outputs": [
    {
     "data": {
      "text/plain": [
       "9"
      ]
     },
     "execution_count": 6,
     "metadata": {},
     "output_type": "execute_result"
    }
   ],
   "source": [
    "#Hours\n",
    "timestamp1.hour"
   ]
  },
  {
   "cell_type": "markdown",
   "id": "e6d65463",
   "metadata": {},
   "source": [
    "And so on we can continue generating the elements."
   ]
  },
  {
   "cell_type": "markdown",
   "id": "1d105dda",
   "metadata": {},
   "source": [
    "# Period\n",
    "Now period is a pandas date time functionality that helps us express a particular time span, such as date, month or a year. It actually helps in the carrying out mathematical functionalities on timestamps."
   ]
  },
  {
   "cell_type": "code",
   "execution_count": 7,
   "id": "b6a648f4",
   "metadata": {},
   "outputs": [
    {
     "data": {
      "text/plain": [
       "Period('2016-01', 'M')"
      ]
     },
     "execution_count": 7,
     "metadata": {},
     "output_type": "execute_result"
    }
   ],
   "source": [
    "#Lets see two examples understand how does this work.\n",
    "#Example 1\n",
    "pd.Period('2016/1')"
   ]
  },
  {
   "cell_type": "code",
   "execution_count": 8,
   "id": "ff64b238",
   "metadata": {},
   "outputs": [
    {
     "data": {
      "text/plain": [
       "Period('2016-01-05', 'D')"
      ]
     },
     "execution_count": 8,
     "metadata": {},
     "output_type": "execute_result"
    }
   ],
   "source": [
    "#Example2\n",
    "pd.Period('2016/1/5')"
   ]
  },
  {
   "cell_type": "markdown",
   "id": "f13a96f3",
   "metadata": {},
   "source": [
    "Note that above we are getting a tuple of two elements. The first element of the tuple is containing the timestamp itself. The second element of tuple contains what we call granularity which shows the most smallest and accurate piece of info available to us in the timestamp. For example, for timestamp1 the most accurate and smallest piece of info was month, while for the second timestamp, its was day. "
   ]
  },
  {
   "cell_type": "markdown",
   "id": "6bcb9957",
   "metadata": {},
   "source": [
    "\n",
    "While we are at it lets discuss some important functionality provided by Period Function of the pandas library."
   ]
  },
  {
   "cell_type": "code",
   "execution_count": 9,
   "id": "d214b8e9",
   "metadata": {},
   "outputs": [
    {
     "data": {
      "text/plain": [
       "Period('2016-03', 'M')"
      ]
     },
     "execution_count": 9,
     "metadata": {},
     "output_type": "execute_result"
    }
   ],
   "source": [
    "pd.Period('2016/1')+2"
   ]
  },
  {
   "cell_type": "code",
   "execution_count": 13,
   "id": "9b6ffcec",
   "metadata": {},
   "outputs": [
    {
     "data": {
      "text/plain": [
       "Period('2016-01-07', 'D')"
      ]
     },
     "execution_count": 13,
     "metadata": {},
     "output_type": "execute_result"
    }
   ],
   "source": [
    "pd.Period('2016/1/5')+2"
   ]
  },
  {
   "cell_type": "markdown",
   "id": "e4ec583a",
   "metadata": {},
   "source": [
    "So you saw something above. What we did was adding the Period object with integers.\n",
    "\n",
    "Here are a few inferences we need to note.\n",
    "\n",
    "1) When arithematic operation will be conducted we will see that the granular element and the external number will add up.\n",
    "\n",
    "2) Rest of the element will remain unaffected.\n",
    "\n",
    "For instance in case1 only the month element changed while the year element remain unaffected.\n",
    "\n",
    "Meanwhile in the second example, the day element changed while the month and year element remained unaffected."
   ]
  },
  {
   "cell_type": "markdown",
   "id": "f4b485de",
   "metadata": {},
   "source": [
    "# DatetimeIndex\n",
    "Well the index made up of Time stamps is called Date Time Index."
   ]
  },
  {
   "cell_type": "markdown",
   "id": "9bcdd01e",
   "metadata": {},
   "source": [
    "\n",
    "Lets see an example where we are creating a series object whose index will be timestamps."
   ]
  },
  {
   "cell_type": "code",
   "execution_count": 16,
   "id": "559cfcbc",
   "metadata": {},
   "outputs": [
    {
     "data": {
      "text/plain": [
       "2016-08-01    a\n",
       "2016-08-02    b\n",
       "2016-08-02    c\n",
       "dtype: object"
      ]
     },
     "execution_count": 16,
     "metadata": {},
     "output_type": "execute_result"
    }
   ],
   "source": [
    "newSeries=pd.Series(['a','b','c'],index=[pd.Timestamp('2016/8/1'),pd.Timestamp('2016/8/2'),pd.Timestamp('2016/8/2')])\n",
    "newSeries"
   ]
  },
  {
   "cell_type": "markdown",
   "id": "ac8171d6",
   "metadata": {},
   "source": [
    "Let check the dtype of the indexes."
   ]
  },
  {
   "cell_type": "code",
   "execution_count": 17,
   "id": "a501f7b4",
   "metadata": {},
   "outputs": [
    {
     "data": {
      "text/plain": [
       "pandas.core.indexes.datetimes.DatetimeIndex"
      ]
     },
     "execution_count": 17,
     "metadata": {},
     "output_type": "execute_result"
    }
   ],
   "source": [
    "type(newSeries.index)"
   ]
  },
  {
   "cell_type": "markdown",
   "id": "fea0be07",
   "metadata": {},
   "source": [
    "As observable the datatype of the indexes is __DatetimeIndex__."
   ]
  },
  {
   "cell_type": "markdown",
   "id": "23ec8335",
   "metadata": {},
   "source": [
    "\n",
    "Its nothing new here but another way of creating a series. Lets look at it."
   ]
  },
  {
   "cell_type": "code",
   "execution_count": 22,
   "id": "d0fbc32f",
   "metadata": {},
   "outputs": [],
   "source": [
    "newSeries1=pd.Series(list('abc'),[pd.Timestamp('2016/8/1'),pd.Timestamp('2016/8/2'),pd.Timestamp('2016/8/2')])"
   ]
  },
  {
   "cell_type": "code",
   "execution_count": 23,
   "id": "e3b0d603",
   "metadata": {},
   "outputs": [
    {
     "data": {
      "text/plain": [
       "2016-08-01    a\n",
       "2016-08-02    b\n",
       "2016-08-02    c\n",
       "dtype: object"
      ]
     },
     "execution_count": 23,
     "metadata": {},
     "output_type": "execute_result"
    }
   ],
   "source": [
    "newSeries1"
   ]
  },
  {
   "cell_type": "markdown",
   "id": "db882e3e",
   "metadata": {},
   "source": [
    "Right? So let move ahead."
   ]
  },
  {
   "cell_type": "markdown",
   "id": "aaad3f8d",
   "metadata": {},
   "source": [
    "# PeriodIndex"
   ]
  },
  {
   "cell_type": "markdown",
   "id": "1470135d",
   "metadata": {},
   "source": [
    "So as we know that the series/dataframe indexes made of Period object are refered as PeriodIndex. Know that its creating is same as that of DatetimeIndex with only creating functions changing."
   ]
  },
  {
   "cell_type": "code",
   "execution_count": 24,
   "id": "f4bd43aa",
   "metadata": {},
   "outputs": [],
   "source": [
    "newSeries2=pd.Series(['a','b','c'],index=[pd.Period(\"2016/8/1\"),pd.Period(\"2016/8/2\"),pd.Period(\"2016/8/3\")])"
   ]
  },
  {
   "cell_type": "code",
   "execution_count": 25,
   "id": "58d350bf",
   "metadata": {},
   "outputs": [
    {
     "data": {
      "text/plain": [
       "2016-08-01    a\n",
       "2016-08-02    b\n",
       "2016-08-03    c\n",
       "Freq: D, dtype: object"
      ]
     },
     "execution_count": 25,
     "metadata": {},
     "output_type": "execute_result"
    }
   ],
   "source": [
    "newSeries2"
   ]
  },
  {
   "cell_type": "code",
   "execution_count": 26,
   "id": "5fec6025",
   "metadata": {},
   "outputs": [
    {
     "data": {
      "text/plain": [
       "pandas.core.indexes.period.PeriodIndex"
      ]
     },
     "execution_count": 26,
     "metadata": {},
     "output_type": "execute_result"
    }
   ],
   "source": [
    "type(newSeries2.index)"
   ]
  },
  {
   "cell_type": "markdown",
   "id": "3e1e7be3",
   "metadata": {},
   "source": [
    "As observable the indexes are of the datatype __PeriodIndex__"
   ]
  },
  {
   "cell_type": "markdown",
   "id": "6544af02",
   "metadata": {},
   "source": [
    "# From Timestamp To DateTime."
   ]
  },
  {
   "cell_type": "markdown",
   "id": "5a97e6dc",
   "metadata": {},
   "source": [
    "Well we have worked a lot with series. Let create a dataframe for a change."
   ]
  },
  {
   "cell_type": "code",
   "execution_count": 35,
   "id": "e359a65c",
   "metadata": {},
   "outputs": [],
   "source": [
    "newDataFrame=pd.DataFrame(np.random.randint(10,100,(4,2)),index=[\"2016/2/1\",\"1st Sep 2016\",\"1-8-2016\",\"2016/2/1\"],columns=['a','b'])"
   ]
  },
  {
   "cell_type": "code",
   "execution_count": 36,
   "id": "a35974d6",
   "metadata": {},
   "outputs": [
    {
     "data": {
      "text/html": [
       "<div>\n",
       "<style scoped>\n",
       "    .dataframe tbody tr th:only-of-type {\n",
       "        vertical-align: middle;\n",
       "    }\n",
       "\n",
       "    .dataframe tbody tr th {\n",
       "        vertical-align: top;\n",
       "    }\n",
       "\n",
       "    .dataframe thead th {\n",
       "        text-align: right;\n",
       "    }\n",
       "</style>\n",
       "<table border=\"1\" class=\"dataframe\">\n",
       "  <thead>\n",
       "    <tr style=\"text-align: right;\">\n",
       "      <th></th>\n",
       "      <th>a</th>\n",
       "      <th>b</th>\n",
       "    </tr>\n",
       "  </thead>\n",
       "  <tbody>\n",
       "    <tr>\n",
       "      <th>2016/2/1</th>\n",
       "      <td>57</td>\n",
       "      <td>22</td>\n",
       "    </tr>\n",
       "    <tr>\n",
       "      <th>1st Sep 2016</th>\n",
       "      <td>19</td>\n",
       "      <td>42</td>\n",
       "    </tr>\n",
       "    <tr>\n",
       "      <th>1-8-2016</th>\n",
       "      <td>27</td>\n",
       "      <td>76</td>\n",
       "    </tr>\n",
       "    <tr>\n",
       "      <th>2016/2/1</th>\n",
       "      <td>21</td>\n",
       "      <td>82</td>\n",
       "    </tr>\n",
       "  </tbody>\n",
       "</table>\n",
       "</div>"
      ],
      "text/plain": [
       "               a   b\n",
       "2016/2/1      57  22\n",
       "1st Sep 2016  19  42\n",
       "1-8-2016      27  76\n",
       "2016/2/1      21  82"
      ]
     },
     "execution_count": 36,
     "metadata": {},
     "output_type": "execute_result"
    }
   ],
   "source": [
    "newDataFrame"
   ]
  },
  {
   "cell_type": "markdown",
   "id": "6300e633",
   "metadata": {},
   "source": [
    "Lets understand what happened above and lets also understand what we need to do here. So we created a dataframe with indexes created out of strings, supposedly posing to be dates in different format. Since it looks uneven our task is to convert this into datatime object to give it a more uniform look."
   ]
  },
  {
   "cell_type": "markdown",
   "id": "de5a4ff9",
   "metadata": {},
   "source": [
    "\n",
    "For doing that what we do is we use the function __to_datetime(< Dataframe >.column/row)__. Lets see a few examples to understand this fully."
   ]
  },
  {
   "cell_type": "code",
   "execution_count": 37,
   "id": "1c5150b5",
   "metadata": {},
   "outputs": [],
   "source": [
    "# Converting the dtype of index of \"newDataframe\" from string to \"datetime\".\n",
    "newDataFrame.index=pd.to_datetime(newDataFrame.index)"
   ]
  },
  {
   "cell_type": "code",
   "execution_count": 38,
   "id": "b5335b7d",
   "metadata": {},
   "outputs": [
    {
     "data": {
      "text/html": [
       "<div>\n",
       "<style scoped>\n",
       "    .dataframe tbody tr th:only-of-type {\n",
       "        vertical-align: middle;\n",
       "    }\n",
       "\n",
       "    .dataframe tbody tr th {\n",
       "        vertical-align: top;\n",
       "    }\n",
       "\n",
       "    .dataframe thead th {\n",
       "        text-align: right;\n",
       "    }\n",
       "</style>\n",
       "<table border=\"1\" class=\"dataframe\">\n",
       "  <thead>\n",
       "    <tr style=\"text-align: right;\">\n",
       "      <th></th>\n",
       "      <th>a</th>\n",
       "      <th>b</th>\n",
       "    </tr>\n",
       "  </thead>\n",
       "  <tbody>\n",
       "    <tr>\n",
       "      <th>2016-02-01</th>\n",
       "      <td>57</td>\n",
       "      <td>22</td>\n",
       "    </tr>\n",
       "    <tr>\n",
       "      <th>2016-09-01</th>\n",
       "      <td>19</td>\n",
       "      <td>42</td>\n",
       "    </tr>\n",
       "    <tr>\n",
       "      <th>2016-01-08</th>\n",
       "      <td>27</td>\n",
       "      <td>76</td>\n",
       "    </tr>\n",
       "    <tr>\n",
       "      <th>2016-02-01</th>\n",
       "      <td>21</td>\n",
       "      <td>82</td>\n",
       "    </tr>\n",
       "  </tbody>\n",
       "</table>\n",
       "</div>"
      ],
      "text/plain": [
       "             a   b\n",
       "2016-02-01  57  22\n",
       "2016-09-01  19  42\n",
       "2016-01-08  27  76\n",
       "2016-02-01  21  82"
      ]
     },
     "execution_count": 38,
     "metadata": {},
     "output_type": "execute_result"
    }
   ],
   "source": [
    "newDataFrame"
   ]
  },
  {
   "cell_type": "markdown",
   "id": "1bd18d38",
   "metadata": {},
   "source": [
    "As observable we now have a new uniform datetime dtype imparted to index of newDataFrame."
   ]
  },
  {
   "cell_type": "code",
   "execution_count": null,
   "id": "06c941bd",
   "metadata": {},
   "outputs": [],
   "source": []
  }
 ],
 "metadata": {
  "kernelspec": {
   "display_name": "Python 3 (ipykernel)",
   "language": "python",
   "name": "python3"
  },
  "language_info": {
   "codemirror_mode": {
    "name": "ipython",
    "version": 3
   },
   "file_extension": ".py",
   "mimetype": "text/x-python",
   "name": "python",
   "nbconvert_exporter": "python",
   "pygments_lexer": "ipython3",
   "version": "3.9.13"
  }
 },
 "nbformat": 4,
 "nbformat_minor": 5
}
