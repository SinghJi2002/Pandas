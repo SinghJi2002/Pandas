{
 "cells": [
  {
   "cell_type": "markdown",
   "id": "4742e615",
   "metadata": {},
   "source": [
    "# Querying Series"
   ]
  },
  {
   "cell_type": "markdown",
   "id": "a78c8c30",
   "metadata": {},
   "source": [
    "In this session we will learn about querying in Series, Iterating through series elements, merging 2 series objects together and and importance of thinking about parallelisation when engaging in data science programming."
   ]
  },
  {
   "cell_type": "markdown",
   "id": "e62777f3",
   "metadata": {},
   "source": [
    "A pandas Series can be queried either by the index position(The number pandas assign to labels starting from zero) or the index label. If we are querying through series which has no index label, then index position and the index label are effectively the same values. To  query by numeric location, starting at zero, use the __iloc__ attribute. To query by the index label, you can use the __loc__ attribute.\n",
    "\n",
    "Though we have said a lot, note that querying here means accessing the value of the series using the index positions and index labels rather then accessing index positions and index labels respectively.\n",
    "\n",
    "Lets see examples of how we can use them."
   ]
  },
  {
   "cell_type": "code",
   "execution_count": 1,
   "id": "ed30e08c",
   "metadata": {},
   "outputs": [],
   "source": [
    "import pandas as pd"
   ]
  },
  {
   "cell_type": "code",
   "execution_count": 2,
   "id": "516721cf",
   "metadata": {},
   "outputs": [],
   "source": [
    "import numpy as np"
   ]
  },
  {
   "cell_type": "code",
   "execution_count": 3,
   "id": "1340dfc5",
   "metadata": {},
   "outputs": [
    {
     "name": "stdout",
     "output_type": "stream",
     "text": [
      "Ashish           Maths\n",
      "Choudhary    Chemistry\n",
      "Ashutosh      Computer\n",
      "dtype: object\n"
     ]
    }
   ],
   "source": [
    "sampleDictionary={\"Ashish\":\"Maths\",\"Choudhary\":\"Chemistry\",\"Ashutosh\":\"Computer\"}\n",
    "newConstruct=pd.Series(sampleDictionary)\n",
    "print(newConstruct)"
   ]
  },
  {
   "cell_type": "code",
   "execution_count": 4,
   "id": "e66aa7b4",
   "metadata": {},
   "outputs": [
    {
     "data": {
      "text/plain": [
       "'Computer'"
      ]
     },
     "execution_count": 4,
     "metadata": {},
     "output_type": "execute_result"
    }
   ],
   "source": [
    "#Lets now query with iloc.\n",
    "newConstruct.iloc[2]"
   ]
  },
  {
   "cell_type": "code",
   "execution_count": 5,
   "id": "a8dd37c0",
   "metadata": {},
   "outputs": [
    {
     "data": {
      "text/plain": [
       "'Maths'"
      ]
     },
     "execution_count": 5,
     "metadata": {},
     "output_type": "execute_result"
    }
   ],
   "source": [
    "newConstruct.iloc[0]"
   ]
  },
  {
   "cell_type": "code",
   "execution_count": 6,
   "id": "a0259e3a",
   "metadata": {},
   "outputs": [
    {
     "data": {
      "text/plain": [
       "'Computer'"
      ]
     },
     "execution_count": 6,
     "metadata": {},
     "output_type": "execute_result"
    }
   ],
   "source": [
    "#Lets now query with loc\n",
    "newConstruct.loc[\"Ashutosh\"]"
   ]
  },
  {
   "cell_type": "code",
   "execution_count": 7,
   "id": "f1d3db40",
   "metadata": {},
   "outputs": [
    {
     "data": {
      "text/plain": [
       "'Maths'"
      ]
     },
     "execution_count": 7,
     "metadata": {},
     "output_type": "execute_result"
    }
   ],
   "source": [
    "newConstruct.loc[\"Ashish\"]"
   ]
  },
  {
   "cell_type": "markdown",
   "id": "4a29930b",
   "metadata": {},
   "source": [
    "Try to remember things this way. __loc__ is for labels and __iloc__ is for no labels."
   ]
  },
  {
   "cell_type": "markdown",
   "id": "2e66f5e5",
   "metadata": {},
   "source": [
    "Keep in mind that iloc and loc are not methods, they are attributes. So you don't use parentheses to query them, but square brackets instead, which is called the indexing operator. "
   ]
  },
  {
   "cell_type": "markdown",
   "id": "6ae89f5c",
   "metadata": {},
   "source": [
    "\n",
    "Pandas tries to make our code a bit more readable and provides a sort of smart syntax using the indexing operator directly on the series itself. For instance, if you pass in an integer parameter, the indexing operator will behave as if you want it to query via the iloc attribute\n",
    "\n",
    "Lets understand via example."
   ]
  },
  {
   "cell_type": "code",
   "execution_count": 8,
   "id": "ddf15fb4",
   "metadata": {},
   "outputs": [
    {
     "data": {
      "text/plain": [
       "'Computer'"
      ]
     },
     "execution_count": 8,
     "metadata": {},
     "output_type": "execute_result"
    }
   ],
   "source": [
    "newConstruct[2]"
   ]
  },
  {
   "cell_type": "code",
   "execution_count": 9,
   "id": "068f73ad",
   "metadata": {},
   "outputs": [
    {
     "data": {
      "text/plain": [
       "'Maths'"
      ]
     },
     "execution_count": 9,
     "metadata": {},
     "output_type": "execute_result"
    }
   ],
   "source": [
    "newConstruct[0]"
   ]
  },
  {
   "cell_type": "markdown",
   "id": "f96bd987",
   "metadata": {},
   "source": [
    "\n",
    "If we pass in an index label alongside the series itself, it will query as if you wanted to use the label based loc attribute.\n",
    "\n",
    "Lets see example to understand."
   ]
  },
  {
   "cell_type": "code",
   "execution_count": 10,
   "id": "fa92fb8b",
   "metadata": {},
   "outputs": [
    {
     "data": {
      "text/plain": [
       "'Computer'"
      ]
     },
     "execution_count": 10,
     "metadata": {},
     "output_type": "execute_result"
    }
   ],
   "source": [
    "newConstruct[\"Ashutosh\"]"
   ]
  },
  {
   "cell_type": "code",
   "execution_count": 11,
   "id": "033cca54",
   "metadata": {},
   "outputs": [
    {
     "data": {
      "text/plain": [
       "'Chemistry'"
      ]
     },
     "execution_count": 11,
     "metadata": {},
     "output_type": "execute_result"
    }
   ],
   "source": [
    "newConstruct[\"Choudhary\"]"
   ]
  },
  {
   "cell_type": "markdown",
   "id": "730973dc",
   "metadata": {},
   "source": [
    "So what happens if your index labels are a list of integers? This is a bit complicated and Pandas can't determine automatically whether you're intending to query by index position or index label. So you need to be careful when using the indexing operator on the Series itself. The safer option is to be more explicit and use the iloc or loc attributes directly.\n",
    "\n",
    "Lets see a few examples."
   ]
  },
  {
   "cell_type": "code",
   "execution_count": 12,
   "id": "978aae19",
   "metadata": {},
   "outputs": [
    {
     "name": "stdout",
     "output_type": "stream",
     "text": [
      "99     House\n",
      "100      Sex\n",
      "98      Food\n",
      "dtype: object\n"
     ]
    }
   ],
   "source": [
    "sampleDictionary={99:\"House\",100:\"Sex\",98:\"Food\"}\n",
    "newConstruct=pd.Series(sampleDictionary)\n",
    "print(newConstruct)"
   ]
  },
  {
   "cell_type": "code",
   "execution_count": 13,
   "id": "daf18781",
   "metadata": {},
   "outputs": [
    {
     "ename": "KeyError",
     "evalue": "0",
     "output_type": "error",
     "traceback": [
      "\u001b[1;31m---------------------------------------------------------------------------\u001b[0m",
      "\u001b[1;31mKeyError\u001b[0m                                  Traceback (most recent call last)",
      "\u001b[1;32m~\\anaconda3\\lib\\site-packages\\pandas\\core\\indexes\\base.py\u001b[0m in \u001b[0;36mget_loc\u001b[1;34m(self, key, method, tolerance)\u001b[0m\n\u001b[0;32m   3628\u001b[0m             \u001b[1;32mtry\u001b[0m\u001b[1;33m:\u001b[0m\u001b[1;33m\u001b[0m\u001b[1;33m\u001b[0m\u001b[0m\n\u001b[1;32m-> 3629\u001b[1;33m                 \u001b[1;32mreturn\u001b[0m \u001b[0mself\u001b[0m\u001b[1;33m.\u001b[0m\u001b[0m_engine\u001b[0m\u001b[1;33m.\u001b[0m\u001b[0mget_loc\u001b[0m\u001b[1;33m(\u001b[0m\u001b[0mcasted_key\u001b[0m\u001b[1;33m)\u001b[0m\u001b[1;33m\u001b[0m\u001b[1;33m\u001b[0m\u001b[0m\n\u001b[0m\u001b[0;32m   3630\u001b[0m             \u001b[1;32mexcept\u001b[0m \u001b[0mKeyError\u001b[0m \u001b[1;32mas\u001b[0m \u001b[0merr\u001b[0m\u001b[1;33m:\u001b[0m\u001b[1;33m\u001b[0m\u001b[1;33m\u001b[0m\u001b[0m\n",
      "\u001b[1;32m~\\anaconda3\\lib\\site-packages\\pandas\\_libs\\index.pyx\u001b[0m in \u001b[0;36mpandas._libs.index.IndexEngine.get_loc\u001b[1;34m()\u001b[0m\n",
      "\u001b[1;32m~\\anaconda3\\lib\\site-packages\\pandas\\_libs\\index.pyx\u001b[0m in \u001b[0;36mpandas._libs.index.IndexEngine.get_loc\u001b[1;34m()\u001b[0m\n",
      "\u001b[1;32mpandas\\_libs\\hashtable_class_helper.pxi\u001b[0m in \u001b[0;36mpandas._libs.hashtable.Int64HashTable.get_item\u001b[1;34m()\u001b[0m\n",
      "\u001b[1;32mpandas\\_libs\\hashtable_class_helper.pxi\u001b[0m in \u001b[0;36mpandas._libs.hashtable.Int64HashTable.get_item\u001b[1;34m()\u001b[0m\n",
      "\u001b[1;31mKeyError\u001b[0m: 0",
      "\nThe above exception was the direct cause of the following exception:\n",
      "\u001b[1;31mKeyError\u001b[0m                                  Traceback (most recent call last)",
      "\u001b[1;32m~\\AppData\\Local\\Temp\\ipykernel_18460\\444969625.py\u001b[0m in \u001b[0;36m<module>\u001b[1;34m\u001b[0m\n\u001b[1;32m----> 1\u001b[1;33m \u001b[0mnewConstruct\u001b[0m\u001b[1;33m[\u001b[0m\u001b[1;36m0\u001b[0m\u001b[1;33m]\u001b[0m\u001b[1;33m\u001b[0m\u001b[1;33m\u001b[0m\u001b[0m\n\u001b[0m",
      "\u001b[1;32m~\\anaconda3\\lib\\site-packages\\pandas\\core\\series.py\u001b[0m in \u001b[0;36m__getitem__\u001b[1;34m(self, key)\u001b[0m\n\u001b[0;32m    956\u001b[0m \u001b[1;33m\u001b[0m\u001b[0m\n\u001b[0;32m    957\u001b[0m         \u001b[1;32melif\u001b[0m \u001b[0mkey_is_scalar\u001b[0m\u001b[1;33m:\u001b[0m\u001b[1;33m\u001b[0m\u001b[1;33m\u001b[0m\u001b[0m\n\u001b[1;32m--> 958\u001b[1;33m             \u001b[1;32mreturn\u001b[0m \u001b[0mself\u001b[0m\u001b[1;33m.\u001b[0m\u001b[0m_get_value\u001b[0m\u001b[1;33m(\u001b[0m\u001b[0mkey\u001b[0m\u001b[1;33m)\u001b[0m\u001b[1;33m\u001b[0m\u001b[1;33m\u001b[0m\u001b[0m\n\u001b[0m\u001b[0;32m    959\u001b[0m \u001b[1;33m\u001b[0m\u001b[0m\n\u001b[0;32m    960\u001b[0m         \u001b[1;32mif\u001b[0m \u001b[0mis_hashable\u001b[0m\u001b[1;33m(\u001b[0m\u001b[0mkey\u001b[0m\u001b[1;33m)\u001b[0m\u001b[1;33m:\u001b[0m\u001b[1;33m\u001b[0m\u001b[1;33m\u001b[0m\u001b[0m\n",
      "\u001b[1;32m~\\anaconda3\\lib\\site-packages\\pandas\\core\\series.py\u001b[0m in \u001b[0;36m_get_value\u001b[1;34m(self, label, takeable)\u001b[0m\n\u001b[0;32m   1067\u001b[0m \u001b[1;33m\u001b[0m\u001b[0m\n\u001b[0;32m   1068\u001b[0m         \u001b[1;31m# Similar to Index.get_value, but we do not fall back to positional\u001b[0m\u001b[1;33m\u001b[0m\u001b[1;33m\u001b[0m\u001b[0m\n\u001b[1;32m-> 1069\u001b[1;33m         \u001b[0mloc\u001b[0m \u001b[1;33m=\u001b[0m \u001b[0mself\u001b[0m\u001b[1;33m.\u001b[0m\u001b[0mindex\u001b[0m\u001b[1;33m.\u001b[0m\u001b[0mget_loc\u001b[0m\u001b[1;33m(\u001b[0m\u001b[0mlabel\u001b[0m\u001b[1;33m)\u001b[0m\u001b[1;33m\u001b[0m\u001b[1;33m\u001b[0m\u001b[0m\n\u001b[0m\u001b[0;32m   1070\u001b[0m         \u001b[1;32mreturn\u001b[0m \u001b[0mself\u001b[0m\u001b[1;33m.\u001b[0m\u001b[0mindex\u001b[0m\u001b[1;33m.\u001b[0m\u001b[0m_get_values_for_loc\u001b[0m\u001b[1;33m(\u001b[0m\u001b[0mself\u001b[0m\u001b[1;33m,\u001b[0m \u001b[0mloc\u001b[0m\u001b[1;33m,\u001b[0m \u001b[0mlabel\u001b[0m\u001b[1;33m)\u001b[0m\u001b[1;33m\u001b[0m\u001b[1;33m\u001b[0m\u001b[0m\n\u001b[0;32m   1071\u001b[0m \u001b[1;33m\u001b[0m\u001b[0m\n",
      "\u001b[1;32m~\\anaconda3\\lib\\site-packages\\pandas\\core\\indexes\\base.py\u001b[0m in \u001b[0;36mget_loc\u001b[1;34m(self, key, method, tolerance)\u001b[0m\n\u001b[0;32m   3629\u001b[0m                 \u001b[1;32mreturn\u001b[0m \u001b[0mself\u001b[0m\u001b[1;33m.\u001b[0m\u001b[0m_engine\u001b[0m\u001b[1;33m.\u001b[0m\u001b[0mget_loc\u001b[0m\u001b[1;33m(\u001b[0m\u001b[0mcasted_key\u001b[0m\u001b[1;33m)\u001b[0m\u001b[1;33m\u001b[0m\u001b[1;33m\u001b[0m\u001b[0m\n\u001b[0;32m   3630\u001b[0m             \u001b[1;32mexcept\u001b[0m \u001b[0mKeyError\u001b[0m \u001b[1;32mas\u001b[0m \u001b[0merr\u001b[0m\u001b[1;33m:\u001b[0m\u001b[1;33m\u001b[0m\u001b[1;33m\u001b[0m\u001b[0m\n\u001b[1;32m-> 3631\u001b[1;33m                 \u001b[1;32mraise\u001b[0m \u001b[0mKeyError\u001b[0m\u001b[1;33m(\u001b[0m\u001b[0mkey\u001b[0m\u001b[1;33m)\u001b[0m \u001b[1;32mfrom\u001b[0m \u001b[0merr\u001b[0m\u001b[1;33m\u001b[0m\u001b[1;33m\u001b[0m\u001b[0m\n\u001b[0m\u001b[0;32m   3632\u001b[0m             \u001b[1;32mexcept\u001b[0m \u001b[0mTypeError\u001b[0m\u001b[1;33m:\u001b[0m\u001b[1;33m\u001b[0m\u001b[1;33m\u001b[0m\u001b[0m\n\u001b[0;32m   3633\u001b[0m                 \u001b[1;31m# If we have a listlike key, _check_indexing_error will raise\u001b[0m\u001b[1;33m\u001b[0m\u001b[1;33m\u001b[0m\u001b[0m\n",
      "\u001b[1;31mKeyError\u001b[0m: 0"
     ]
    }
   ],
   "source": [
    "newConstruct[0]"
   ]
  },
  {
   "cell_type": "markdown",
   "id": "3ee5633e",
   "metadata": {},
   "source": [
    "As observable an error is obtained as the index labels are in numeric format and the using indexing operator to extract elements of the construct will lead to error as the system is confused whether the information the query is being run over iloc or loc."
   ]
  },
  {
   "cell_type": "markdown",
   "id": "43607e9f",
   "metadata": {},
   "source": [
    "# Working With Queried Data"
   ]
  },
  {
   "cell_type": "markdown",
   "id": "86dd52f9",
   "metadata": {},
   "source": [
    "Now we know how to extract data out of Series Data structure. Lets now see a few example where we can use this data and perform operations."
   ]
  },
  {
   "cell_type": "markdown",
   "id": "83a2918b",
   "metadata": {},
   "source": [
    "###### Example1:\n",
    "Given we have marks scored by a student in a series. Our task is to find the average marks scored by the student."
   ]
  },
  {
   "cell_type": "code",
   "execution_count": 14,
   "id": "016460a2",
   "metadata": {},
   "outputs": [
    {
     "name": "stdout",
     "output_type": "stream",
     "text": [
      "75.2\n"
     ]
    }
   ],
   "source": [
    "marks=[90,74,100,45,67]\n",
    "marksSeries=pd.Series(marks)\n",
    "\n",
    "totalMark=0\n",
    "totalSubject=0\n",
    "for i in marksSeries:\n",
    "    totalMark=totalMark+i\n",
    "    totalSubject=totalSubject+1\n",
    "average=totalMark/totalSubject\n",
    "print(average)"
   ]
  },
  {
   "cell_type": "markdown",
   "id": "79c3fe27",
   "metadata": {},
   "source": [
    "This works, but it's slow.\n",
    "\n",
    "Pandas and the underlying numpy libraries support a method of computation called vectorization. Vectorization works with most of the functions in the numpy library, including the sum function. Lets solve this question using the sum method of numpy."
   ]
  },
  {
   "cell_type": "code",
   "execution_count": 15,
   "id": "d6be60f0",
   "metadata": {},
   "outputs": [
    {
     "name": "stdout",
     "output_type": "stream",
     "text": [
      "75.2\n"
     ]
    }
   ],
   "source": [
    "lenght=len(marks)\n",
    "#In general when we apply the usage of sum on arrays using numpy the syntax is different. But for series we need to pass the \n",
    "#series through the sum method to get sum of its elements.\n",
    "totalMarks=np.sum(marksSeries)\n",
    "average=totalMarks/lenght\n",
    "print(average)"
   ]
  },
  {
   "cell_type": "markdown",
   "id": "bf8263f4",
   "metadata": {},
   "source": [
    "See both the codes above do the same thing. But we need to find who is faster to understand why did we write the second code in the first place."
   ]
  },
  {
   "cell_type": "markdown",
   "id": "2b0dd4a3",
   "metadata": {},
   "source": [
    "\n",
    "Here, we're actually going to use what's called a cellular magic function. These start with two  percentage signs and wrap the code in the current Jupyter cell. The function we're going to use is called timeit. This function will run our code a few times to determine, on average, how long it takes.\n",
    "\n",
    "\n",
    "The general syntax to be used is \n",
    "\n",
    "###### %%timeit -n < Number >\n",
    "###### < code >\n",
    "\n",
    "The number will define how many times the magic function variable has to work\\run to find the average.\n",
    "\n",
    "Lets apply it on our previous code and see how it works."
   ]
  },
  {
   "cell_type": "code",
   "execution_count": 52,
   "id": "55df2e3f",
   "metadata": {},
   "outputs": [
    {
     "name": "stdout",
     "output_type": "stream",
     "text": [
      "886 ns ± 146 ns per loop (mean ± std. dev. of 7 runs, 100 loops each)\n"
     ]
    }
   ],
   "source": [
    "%%timeit -n 100\n",
    "\n",
    "totalMark=0\n",
    "totalSubject=0\n",
    "for i in marks:\n",
    "    totalMark=totalMark+i\n",
    "    totalSubject=totalSubject+1\n",
    "average=totalMark/totalSubject\n"
   ]
  },
  {
   "cell_type": "code",
   "execution_count": 53,
   "id": "59a71dc0",
   "metadata": {},
   "outputs": [
    {
     "name": "stdout",
     "output_type": "stream",
     "text": [
      "102 µs ± 4.78 µs per loop (mean ± std. dev. of 7 runs, 100 loops each)\n"
     ]
    }
   ],
   "source": [
    "%%timeit -n 100\n",
    "\n",
    "lenght=len(marks)\n",
    "totalMarks=np.sum(marksSeries)\n",
    "totalMarks/lenght"
   ]
  },
  {
   "cell_type": "markdown",
   "id": "ba478005",
   "metadata": {},
   "source": [
    "Wow! This is a pretty shocking difference in the speed and demonstrates why one should be aware of parallel computing features and start thinking in functional programming terms. Put more simply, vectorization is the ability for a computer to execute multiple instructions at once, and with high performance chips, especially graphics cards, you can get dramatic speedups. Modern graphics cards can run thousands of instructions in parallel."
   ]
  },
  {
   "cell_type": "markdown",
   "id": "4bcf2d48",
   "metadata": {},
   "source": [
    "###### Broadcasting\n",
    "With broadcasting, you can apply an operation to every value in the series, changing the series. For instance, if we wanted to increase every marks scored in each subject by 2, we could do so quickly using the += operator directly on the Series object.\n",
    "\n",
    "Let see that."
   ]
  },
  {
   "cell_type": "code",
   "execution_count": 54,
   "id": "8e3f6ee3",
   "metadata": {},
   "outputs": [
    {
     "name": "stdout",
     "output_type": "stream",
     "text": [
      "0     92\n",
      "1     76\n",
      "2    102\n",
      "3     47\n",
      "4     69\n",
      "dtype: int64\n"
     ]
    }
   ],
   "source": [
    "marksSeries=marksSeries+2\n",
    "print(marksSeries)"
   ]
  },
  {
   "cell_type": "markdown",
   "id": "0c3b1421",
   "metadata": {},
   "source": [
    "As observable changes are appearing. The procedural way of doing this would be to iterate through all of the items in the series and increase the values directly."
   ]
  },
  {
   "cell_type": "markdown",
   "id": "c4cc5b4e",
   "metadata": {},
   "source": [
    "Pandas does support iterating through a series much like a dictionary, allowing you to unpack values easily.But for that we need to use a speicial method called iteritems(). Let see the syntax.\n",
    "\n",
    "###### for < Index Variable >,< DataVariable > in < Series >.iteritem():\n",
    "# #Code\n",
    "\n",
    "Lets see how its done"
   ]
  },
  {
   "cell_type": "code",
   "execution_count": 63,
   "id": "aa811c82",
   "metadata": {},
   "outputs": [
    {
     "name": "stdout",
     "output_type": "stream",
     "text": [
      "English      65\n",
      "Math        100\n",
      "Science      74\n",
      "Hindi        80\n",
      "Computer     92\n",
      "dtype: int64\n"
     ]
    }
   ],
   "source": [
    "marksDictionary={\"English\":65,\"Math\":100,\"Science\":74,\"Hindi\":80,\"Computer\":92}\n",
    "marksSeries=pd.Series(marksDictionary)\n",
    "print(marksSeries)"
   ]
  },
  {
   "cell_type": "code",
   "execution_count": 58,
   "id": "6dcfb3ff",
   "metadata": {},
   "outputs": [
    {
     "name": "stdout",
     "output_type": "stream",
     "text": [
      "English\n",
      "65\n",
      "Math\n",
      "100\n",
      "Science\n",
      "74\n",
      "Hindi\n",
      "80\n",
      "Computer\n",
      "92\n"
     ]
    }
   ],
   "source": [
    "#lets iterate through the series\n",
    "for subject,marks in marksSeries.iteritems():\n",
    "    print(subject)\n",
    "    print(marks)"
   ]
  },
  {
   "cell_type": "markdown",
   "id": "88f4d351",
   "metadata": {},
   "source": [
    "Lets now iterate the values of the marks Series via iteration"
   ]
  },
  {
   "cell_type": "markdown",
   "id": "d43a5380",
   "metadata": {},
   "source": [
    "###### Example 1"
   ]
  },
  {
   "cell_type": "code",
   "execution_count": 64,
   "id": "fe323aa4",
   "metadata": {},
   "outputs": [
    {
     "name": "stdout",
     "output_type": "stream",
     "text": [
      "English      65\n",
      "Math        100\n",
      "Science      74\n",
      "Hindi        80\n",
      "Computer     92\n",
      "dtype: int64\n"
     ]
    }
   ],
   "source": [
    "for label,value in marksSeries.iteritems():\n",
    "    value=value+2\n",
    "print(marksSeries)"
   ]
  },
  {
   "cell_type": "markdown",
   "id": "b21cecf0",
   "metadata": {},
   "source": [
    "Its important to observe that the code above is not able to update the values of the under dicussion Series."
   ]
  },
  {
   "cell_type": "markdown",
   "id": "12c7f6d2",
   "metadata": {},
   "source": [
    "###### Example 2"
   ]
  },
  {
   "cell_type": "code",
   "execution_count": 65,
   "id": "c47d3954",
   "metadata": {},
   "outputs": [
    {
     "name": "stdout",
     "output_type": "stream",
     "text": [
      "English      67\n",
      "Math        102\n",
      "Science      76\n",
      "Hindi        82\n",
      "Computer     94\n",
      "dtype: int64\n"
     ]
    }
   ],
   "source": [
    "for label,value in marksSeries.iteritems():\n",
    "    marksSeries.loc[label]=value+2\n",
    "print(marksSeries)"
   ]
  },
  {
   "cell_type": "markdown",
   "id": "595a2a7c",
   "metadata": {},
   "source": [
    "As observable this time the changes made are visible. "
   ]
  },
  {
   "cell_type": "code",
   "execution_count": 1,
   "id": "e872e4b3",
   "metadata": {},
   "outputs": [],
   "source": [
    "#The notes here are still not complete"
   ]
  }
 ],
 "metadata": {
  "kernelspec": {
   "display_name": "Python 3 (ipykernel)",
   "language": "python",
   "name": "python3"
  },
  "language_info": {
   "codemirror_mode": {
    "name": "ipython",
    "version": 3
   },
   "file_extension": ".py",
   "mimetype": "text/x-python",
   "name": "python",
   "nbconvert_exporter": "python",
   "pygments_lexer": "ipython3",
   "version": "3.9.13"
  }
 },
 "nbformat": 4,
 "nbformat_minor": 5
}
