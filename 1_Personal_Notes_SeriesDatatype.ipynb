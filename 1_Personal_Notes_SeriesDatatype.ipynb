{
 "cells": [
  {
   "cell_type": "markdown",
   "id": "44773852",
   "metadata": {},
   "source": [
    "# Series Data Structure In Pandas"
   ]
  },
  {
   "cell_type": "markdown",
   "id": "b7ea266d",
   "metadata": {},
   "source": [
    "The series is one of the core data structures in pandas. It is like a crossover between a list and a dictionary. The items are stored in an order and there's labels with which you can retrieve them. An easy way to visualize this is two columns of data. The first is the special index, a lot like keys in a dictionary. While the second is your actual data. It's important to note that the data column has a label of its own and can be retrieved using the .name attribute. This is different than with dictionaries and is useful when it comes to merging multiple columns of data."
   ]
  },
  {
   "cell_type": "markdown",
   "id": "2d771bea",
   "metadata": {},
   "source": [
    "## Creating Series Datastructure In Pandas"
   ]
  },
  {
   "cell_type": "markdown",
   "id": "a4ebe132",
   "metadata": {},
   "source": [
    "### 1. Via Passing A List in the Series Attribute.\n",
    "\n",
    "Lets see the syntax for this\n",
    "\n",
    "###### < Variable >=Pandas.Series(< List >)\n",
    "\n",
    "Lets see some examples."
   ]
  },
  {
   "cell_type": "code",
   "execution_count": 1,
   "id": "c3db7435",
   "metadata": {},
   "outputs": [],
   "source": [
    "#First of all lets import Pandas\n",
    "import pandas as pd"
   ]
  },
  {
   "cell_type": "code",
   "execution_count": 2,
   "id": "83081439",
   "metadata": {},
   "outputs": [
    {
     "name": "stdout",
     "output_type": "stream",
     "text": [
      "0      Ash\n",
      "1      May\n",
      "2    Brock\n",
      "dtype: object\n"
     ]
    }
   ],
   "source": [
    "#Lets now pass an list to create a series\n",
    "sampleList=['Ash','May','Brock']\n",
    "\n",
    "SeriesStructure1=pd.Series(sampleList)\n",
    "\n",
    "print(SeriesStructure1)"
   ]
  },
  {
   "cell_type": "markdown",
   "id": "7b3ee824",
   "metadata": {},
   "source": [
    "As observable above when we pass a list through the Series attribute Pandas starts assigning each and every element of dataset(List Passed Through Series) starting from zero.\n",
    "\n",
    "Another thing to observe in the given output is that pandas has automatically recognised and printed the datatype of the newly created Series. As each and every element of the list passed was an object(object is a collective name given to string, arrays and etc) the Series formed from this list will have the datatype object. "
   ]
  },
  {
   "cell_type": "code",
   "execution_count": 3,
   "id": "8b3dab2b",
   "metadata": {},
   "outputs": [
    {
     "name": "stdout",
     "output_type": "stream",
     "text": [
      "0    90\n",
      "1     3\n",
      "2    45\n",
      "dtype: int64\n"
     ]
    }
   ],
   "source": [
    "# Example2. This time in place of passing string we are going to pass numbers.\n",
    "sampleList=[90,3,45]\n",
    "\n",
    "SeriesStructure2=pd.Series(sampleList)\n",
    "\n",
    "print(SeriesStructure2)"
   ]
  },
  {
   "cell_type": "markdown",
   "id": "53fab4b2",
   "metadata": {},
   "source": [
    "As observable this time the dtype of Series is int 64 as the list passed through series was of datatype int64.\n",
    "\n",
    "Also note the underlying structure of the whole Pandas library is Numpy."
   ]
  },
  {
   "cell_type": "markdown",
   "id": "9dd6d55a",
   "metadata": {},
   "source": [
    "##### Important\n",
    "\n",
    "Now lets discuss a few very important things. In python when we want to indicate lack of data we generally use the none keyword.\n",
    "But lets now say that when we pass a list(made up of strings) through the Series attribute of Pandas and have one of its element as none. When it happens, Pandas simply classify the none object as string and assigns it a index in the series datatype we are going to get.\n",
    "\n",
    "Note that Pandas in place of treating  None as None datatype, pandas treats it as the common datatype of list(Objects in this case) and simply uses it as object datatype.\n",
    "\n",
    "Lets see an example"
   ]
  },
  {
   "cell_type": "code",
   "execution_count": 4,
   "id": "a1985801",
   "metadata": {},
   "outputs": [
    {
     "name": "stdout",
     "output_type": "stream",
     "text": [
      "0    Ashutosh\n",
      "1           7\n",
      "2        None\n",
      "dtype: object\n"
     ]
    }
   ],
   "source": [
    "sampleList=['Ashutosh','7',None]\n",
    "\n",
    "SeriesConstruct3=pd.Series(sampleList)\n",
    "\n",
    "print(SeriesConstruct3)"
   ]
  },
  {
   "cell_type": "markdown",
   "id": "c58ebc05",
   "metadata": {},
   "source": [
    "Now when we create a list of numbers wheather it be integers, floats or double and add a None element in it, Pandas converts this None into special floating point value designated as NaN, which expand to Not A Number. Lets understand it via examples."
   ]
  },
  {
   "cell_type": "code",
   "execution_count": 5,
   "id": "7cfacab6",
   "metadata": {},
   "outputs": [
    {
     "name": "stdout",
     "output_type": "stream",
     "text": [
      "0    4.0\n",
      "1    6.0\n",
      "2    8.0\n",
      "3    NaN\n",
      "dtype: float64\n"
     ]
    }
   ],
   "source": [
    "sampleList=[4,6,8,None]\n",
    "\n",
    "SeriesConstruct=pd.Series(sampleList)\n",
    "\n",
    "print(SeriesConstruct)"
   ]
  },
  {
   "cell_type": "markdown",
   "id": "7e6b9088",
   "metadata": {},
   "source": [
    "One more important thing to note here. We passed in integers with a None value but in output Series we see that Pandas has set the dtype Of the Series to be float64. This is because of NaN. Since we have the floating element NaN present in the Series we observe that Pandas typecasts the integer elements to float also and we get the common dtype as float."
   ]
  },
  {
   "cell_type": "markdown",
   "id": "2c7a9069",
   "metadata": {},
   "source": [
    "It is important to stress that None and NaN might be being used by the data scientist in the same way, to denote missing data, but that underneath these are not represented by pandas in the same way.\n",
    "\n",
    "NaN is *NOT* equivilent to None and when we try the equality test, the result is False.\n",
    "\n",
    "Lets bring in numpy which allows us to generate an NaN value."
   ]
  },
  {
   "cell_type": "code",
   "execution_count": 6,
   "id": "539a05e2",
   "metadata": {},
   "outputs": [],
   "source": [
    "import numpy as np"
   ]
  },
  {
   "cell_type": "code",
   "execution_count": 7,
   "id": "cfe60d48",
   "metadata": {},
   "outputs": [
    {
     "data": {
      "text/plain": [
       "False"
      ]
     },
     "execution_count": 7,
     "metadata": {},
     "output_type": "execute_result"
    }
   ],
   "source": [
    "np.nan == None"
   ]
  },
  {
   "cell_type": "markdown",
   "id": "87527f41",
   "metadata": {},
   "source": [
    "It turns out that you actually can't do an equality test of NAN to itself. When you do, the answer is always False. "
   ]
  },
  {
   "cell_type": "code",
   "execution_count": 8,
   "id": "fd3cfcdb",
   "metadata": {},
   "outputs": [
    {
     "data": {
      "text/plain": [
       "False"
      ]
     },
     "execution_count": 8,
     "metadata": {},
     "output_type": "execute_result"
    }
   ],
   "source": [
    "np.nan==np.nan"
   ]
  },
  {
   "cell_type": "markdown",
   "id": "cb35167c",
   "metadata": {},
   "source": [
    "Instead, you need to use special functions to test for the presence of not a number, such as the Numpy library isnan()."
   ]
  },
  {
   "cell_type": "code",
   "execution_count": 9,
   "id": "fa70ab30",
   "metadata": {},
   "outputs": [
    {
     "data": {
      "text/plain": [
       "True"
      ]
     },
     "execution_count": 9,
     "metadata": {},
     "output_type": "execute_result"
    }
   ],
   "source": [
    "np.isnan(np.nan)"
   ]
  },
  {
   "cell_type": "markdown",
   "id": "441be32f",
   "metadata": {},
   "source": [
    "## 2.Creating A Series Via Dictionary\n",
    "Till now we were creating series via lists. In this the labels\\Indexes were system generated while the data to which the indexes\\labels were linked to were supplied by the data inside the list. \n",
    "\n",
    "Another way a creating a series is creating it using dictionaries. In this we observe that keys of the dictionary work as the labels\\indexes and the values of dictionary work as data to which indexes are linked.\n",
    "\n",
    "This gives us the additional functionality of manipulating the labels\\indexes of Series which we didn't had in case of lists.\n",
    "\n",
    "Lets understand with examples."
   ]
  },
  {
   "cell_type": "code",
   "execution_count": 3,
   "id": "edede4dd",
   "metadata": {},
   "outputs": [
    {
     "name": "stdout",
     "output_type": "stream",
     "text": [
      "A    Amanda\n",
      "B      Cole\n",
      "C    Dwayne\n",
      "dtype: object\n"
     ]
    }
   ],
   "source": [
    "sampleDictionary={'A':'Amanda','B':'Cole','C':'Dwayne'}\n",
    "\n",
    "newConstruct=pd.Series(sampleDictionary)\n",
    "\n",
    "print(newConstruct)"
   ]
  },
  {
   "cell_type": "markdown",
   "id": "a346ef7d",
   "metadata": {},
   "source": [
    "#### The Index Attribute"
   ]
  },
  {
   "cell_type": "markdown",
   "id": "43b855ca",
   "metadata": {},
   "source": [
    "The indexes\\labels of existing Series can pe accessed via the Index attribute.\n",
    "\n",
    "The general syntax is as follows:\n",
    "\n",
    "###### < Name Of Series >.index\n",
    "\n",
    "Lets see and example."
   ]
  },
  {
   "cell_type": "code",
   "execution_count": 5,
   "id": "ef052132",
   "metadata": {},
   "outputs": [
    {
     "data": {
      "text/plain": [
       "Index(['A', 'B', 'C'], dtype='object')"
      ]
     },
     "execution_count": 5,
     "metadata": {},
     "output_type": "execute_result"
    }
   ],
   "source": [
    "newConstruct.index"
   ]
  },
  {
   "cell_type": "markdown",
   "id": "2b5ef1ee",
   "metadata": {},
   "source": [
    "As observable the dtype of the indexes is also object as in dictionary the keys were passed as strings."
   ]
  },
  {
   "cell_type": "markdown",
   "id": "ec2b744f",
   "metadata": {},
   "source": [
    "Now, this is kind of interesting. The dtype of object is not just for strings, but for arbitrary objects. Lets create a more complex type of data, say, a list of tuples."
   ]
  },
  {
   "cell_type": "code",
   "execution_count": 12,
   "id": "f2c73a3f",
   "metadata": {},
   "outputs": [
    {
     "name": "stdout",
     "output_type": "stream",
     "text": [
      "0    (Alice, Brown)\n",
      "1     (Jack, White)\n",
      "2    (Molly, Green)\n",
      "dtype: object\n"
     ]
    }
   ],
   "source": [
    "sampleTuple= [(\"Alice\",\"Brown\"), (\"Jack\", \"White\"), (\"Molly\", \"Green\")]\n",
    "newConstruct=pd.Series(sampleTuple)\n",
    "print(newConstruct)"
   ]
  },
  {
   "cell_type": "markdown",
   "id": "9b2e0fd5",
   "metadata": {},
   "source": [
    "We see that each of the tuples is stored in the series object, and the type is object."
   ]
  },
  {
   "cell_type": "markdown",
   "id": "64a18924",
   "metadata": {},
   "source": [
    "You can also separate your index creation from the data by passing in the index as a list explicitly to the series."
   ]
  },
  {
   "cell_type": "code",
   "execution_count": 13,
   "id": "471b573e",
   "metadata": {},
   "outputs": [
    {
     "name": "stdout",
     "output_type": "stream",
     "text": [
      "Alice      Physics\n",
      "Jack     Chemistry\n",
      "Molly      English\n",
      "dtype: object\n"
     ]
    }
   ],
   "source": [
    "s = pd.Series(['Physics', 'Chemistry', 'English'], index=['Alice', 'Jack', 'Molly'])\n",
    "print(s)"
   ]
  },
  {
   "cell_type": "code",
   "execution_count": 14,
   "id": "1ff80cdc",
   "metadata": {},
   "outputs": [
    {
     "data": {
      "text/plain": [
       "Alice    Physics\n",
       "Molly    English\n",
       "Sam          NaN\n",
       "dtype: object"
      ]
     },
     "execution_count": 14,
     "metadata": {},
     "output_type": "execute_result"
    }
   ],
   "source": [
    "# So what happens if your list of values in the index object are not aligned with the keys \n",
    "# in your dictionary for creating the series? Well, pandas overrides the automatic creation \n",
    "# to favor only and all of the indices values that you provided. So it will ignore from your \n",
    "# dictionary all keys which are not in your index, and pandas will add None or NaN type values \n",
    "# for any index value you provide, which is not in your dictionary key list.\n",
    "\n",
    "# Here's and example. I'll pass in a dictionary of three items, in this case students and\n",
    "# their courses\n",
    "students_scores = {'Alice': 'Physics',\n",
    "                   'Jack': 'Chemistry',\n",
    "                   'Molly': 'English'}\n",
    "# When I create the series object though I'll only ask for an index with three students, and\n",
    "# I'll exclude Jack\n",
    "s = pd.Series(students_scores, index=['Alice', 'Molly', 'Sam'])\n",
    "s"
   ]
  },
  {
   "cell_type": "code",
   "execution_count": 15,
   "id": "9f14b3fa",
   "metadata": {},
   "outputs": [],
   "source": [
    "# The result is that the Series object doesn't have Jack in it, even though he was in our\n",
    "# original dataset, but it explicitly does have Sam in it as a missing value."
   ]
  }
 ],
 "metadata": {
  "kernelspec": {
   "display_name": "Python 3 (ipykernel)",
   "language": "python",
   "name": "python3"
  },
  "language_info": {
   "codemirror_mode": {
    "name": "ipython",
    "version": 3
   },
   "file_extension": ".py",
   "mimetype": "text/x-python",
   "name": "python",
   "nbconvert_exporter": "python",
   "pygments_lexer": "ipython3",
   "version": "3.9.13"
  }
 },
 "nbformat": 4,
 "nbformat_minor": 5
}
