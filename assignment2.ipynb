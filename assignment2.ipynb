{
 "cells": [
  {
   "cell_type": "markdown",
   "metadata": {
    "deletable": false,
    "editable": false,
    "etc_identifier": "373a3605-5bda-4e1f-beef-04a0173d3f41",
    "nbgrader": {
     "cell_type": "markdown",
     "checksum": "ea942292eff37b50f364f842bcdd8ad9",
     "grade": false,
     "grade_id": "cell-a839e7b47494b4c3",
     "locked": true,
     "schema_version": 3,
     "solution": false
    }
   },
   "source": [
    "# Assignment 2\n",
    "\n",
    "For this assignment you'll be looking at 2017 data on immunizations from the CDC. Your datafile for this assignment is in [assets/NISPUF17.csv](assets/NISPUF17.csv). A data users guide for this, which you'll need to map the variables in the data to the questions being asked, is available at [assets/NIS-PUF17-DUG.pdf](assets/NIS-PUF17-DUG.pdf). **Note: you may have to go to your Jupyter tree (click on the Coursera image) and navigate to the assignment 2 assets folder to see this PDF file).**"
   ]
  },
  {
   "cell_type": "markdown",
   "metadata": {
    "deletable": false,
    "editable": false,
    "hideCode": false,
    "hidePrompt": false,
    "nbgrader": {
     "cell_type": "markdown",
     "checksum": "f85bd44672080d80abd2a7f47aa0f1be",
     "grade": false,
     "grade_id": "cell-58fc2e5938733f6a",
     "locked": true,
     "schema_version": 3,
     "solution": false
    }
   },
   "source": [
    "## Question 1\n",
    "Write a function called `proportion_of_education` which returns the proportion of children in the dataset who had a mother with the education levels equal to less than high school (<12), high school (12), more than high school but not a college graduate (>12) and college degree.\n",
    "\n",
    "*This function should return a dictionary in the form of (use the correct numbers, do not round numbers):* \n",
    "```\n",
    "    {\"less than high school\":0.2,\n",
    "    \"high school\":0.4,\n",
    "    \"more than high school but not college\":0.2,\n",
    "    \"college\":0.2}\n",
    "```"
   ]
  },
  {
   "cell_type": "code",
   "execution_count": 3,
   "metadata": {
    "deletable": false,
    "nbgrader": {
     "cell_type": "code",
     "checksum": "0ac58deb3f5ac988c643e903cbee7f3a",
     "grade": false,
     "grade_id": "cell-eea16d020eb52ae7",
     "locked": false,
     "schema_version": 3,
     "solution": true
    }
   },
   "outputs": [],
   "source": [
    "def proportion_of_education():\n",
    "    import pandas as pd\n",
    "    dataframe=pd.read_csv(\"NISPUF17.csv\",index_col=0)\n",
    "    dataframe.columns=[x.lower().strip() for x in dataframe.columns]\n",
    "    \n",
    "    dataframeAverageLessThan12=dataframe[dataframe[\"educ1\"]==1]\n",
    "    countLessThan12=len(dataframeAverageLessThan12)\n",
    "    \n",
    "    dataframeAverageAt12=dataframe[dataframe[\"educ1\"]==2]\n",
    "    countAt12=len(dataframeAverageAt12)\n",
    "    \n",
    "    dataframeAverageMoreThan12NoCollege=dataframe[dataframe[\"educ1\"]==3]\n",
    "    countMoreThan12=len(dataframeAverageMoreThan12NoCollege)\n",
    "    \n",
    "    dataframeAverageMoreThan12YesCollege=dataframe[dataframe[\"educ1\"]==4]\n",
    "    countAtCollege=len(dataframeAverageMoreThan12YesCollege)\n",
    "    \n",
    "    totalDatasets=countAt12+countAtCollege+countLessThan12+countMoreThan12\n",
    "    \n",
    "    proportionOfLessThan12=countLessThan12/totalDatasets\n",
    "    proportionOfAt12=countAt12/totalDatasets\n",
    "    proportionOfMoreThan12=countMoreThan12/totalDatasets\n",
    "    proportionOfAtCollege=countAtCollege/totalDatasets\n",
    "    \n",
    "    supposedDictionary={\"less than high school\":proportionOfLessThan12,\n",
    "                        \"high school\":proportionOfAt12,\n",
    "                        \"more than high school but not college\":proportionOfMoreThan12,\n",
    "                        \"college\":proportionOfAtCollege}\n",
    "    return(supposedDictionary)\n",
    "                        \n",
    "    raise NotImplementedError()"
   ]
  },
  {
   "cell_type": "code",
   "execution_count": 4,
   "metadata": {
    "deletable": false,
    "editable": false,
    "hideCode": false,
    "hidePrompt": false,
    "nbgrader": {
     "cell_type": "code",
     "checksum": "ac5d91a24a7f72f66c25d242c3d24a50",
     "grade": true,
     "grade_id": "cell-c0eeef201366f51c",
     "locked": true,
     "points": 1,
     "schema_version": 3,
     "solution": false
    }
   },
   "outputs": [],
   "source": [
    "assert type(proportion_of_education())==type({}), \"You must return a dictionary.\"\n",
    "assert len(proportion_of_education()) == 4, \"You have not returned a dictionary with four items in it.\"\n",
    "assert \"less than high school\" in proportion_of_education().keys(), \"You have not returned a dictionary with the correct keys.\"\n",
    "assert \"high school\" in proportion_of_education().keys(), \"You have not returned a dictionary with the correct keys.\"\n",
    "assert \"more than high school but not college\" in proportion_of_education().keys(), \"You have not returned a dictionary with the correct keys.\"\n",
    "assert \"college\" in proportion_of_education().keys(), \"You have not returned a dictionary with the correct keys.\"\n"
   ]
  },
  {
   "cell_type": "markdown",
   "metadata": {
    "deletable": false,
    "editable": false,
    "nbgrader": {
     "cell_type": "markdown",
     "checksum": "562b78b7b9b79580269be0a3bebf4b42",
     "grade": false,
     "grade_id": "cell-8fcbb64516283f52",
     "locked": true,
     "schema_version": 3,
     "solution": false
    }
   },
   "source": [
    "## Question 2\n",
    "\n",
    "Let's explore the relationship between being fed breastmilk as a child and getting a seasonal influenza vaccine from a healthcare provider. Return a tuple of the average number of influenza vaccines for those children we know received breastmilk as a child and those who know did not.\n",
    "\n",
    "*This function should return a tuple in the form (use the correct numbers:*\n",
    "```\n",
    "(2.5, 0.1)\n",
    "```"
   ]
  },
  {
   "cell_type": "code",
   "execution_count": 39,
   "metadata": {
    "deletable": false,
    "nbgrader": {
     "cell_type": "code",
     "checksum": "a405d639063c4a6408365479f29c95c9",
     "grade": false,
     "grade_id": "cell-77f18c512324eabb",
     "locked": false,
     "schema_version": 3,
     "solution": true
    }
   },
   "outputs": [],
   "source": [
    "def average_influenza_doses():\n",
    "    import pandas as pd\n",
    "    import numpy as np\n",
    "    dataframe=pd.read_csv(\"assets/NISPUF17.csv\",index_col=0)\n",
    "    \n",
    "    \n",
    "    dataframeBreastFedAndVaccine=dataframe[dataframe[\"CBF_01\"]==1]\n",
    "    seriesBreastfedAndVaccine=np.mean(dataframeBreastFedAndVaccine[\"P_NUMFLU\"])\n",
    "\n",
    "    dataframeVaccineOnly=dataframe[dataframe[\"CBF_01\"]==2]\n",
    "    seriesVaccineOnly=np.mean(dataframeVaccineOnly[\"P_NUMFLU\"])\n",
    "    \n",
    "    return((seriesBreastfedAndVaccine,seriesVaccineOnly))\n",
    "    raise NotImplementedError()"
   ]
  },
  {
   "cell_type": "code",
   "execution_count": 40,
   "metadata": {
    "deletable": false,
    "editable": false,
    "nbgrader": {
     "cell_type": "code",
     "checksum": "19be955e97fdf7162d43fbb7c2c40951",
     "grade": true,
     "grade_id": "cell-54a3ba6cff31caa7",
     "locked": true,
     "points": 1,
     "schema_version": 3,
     "solution": false
    }
   },
   "outputs": [],
   "source": [
    "assert len(average_influenza_doses())==2, \"Return two values in a tuple, the first for yes and the second for no.\"\n"
   ]
  },
  {
   "cell_type": "markdown",
   "metadata": {
    "deletable": false,
    "editable": false,
    "nbgrader": {
     "cell_type": "markdown",
     "checksum": "e10e2163f5957a0c398ef4f0b76b4efe",
     "grade": false,
     "grade_id": "cell-f63377f3c97aa7c4",
     "locked": true,
     "schema_version": 3,
     "solution": false
    }
   },
   "source": [
    "## Question 3\n",
    "It would be interesting to see if there is any evidence of a link between vaccine effectiveness and sex of the child. Calculate the ratio of the number of children who contracted chickenpox but were vaccinated against it (at least one varicella dose) versus those who were vaccinated but did not contract chicken pox. Return results by sex. \n",
    "\n",
    "*This function should return a dictionary in the form of (use the correct numbers):* \n",
    "```\n",
    "    {\"male\":0.2,\n",
    "    \"female\":0.4}\n",
    "```\n",
    "\n",
    "Note: To aid in verification, the `chickenpox_by_sex()['female']` value the autograder is looking for starts with the digits `0.0077`."
   ]
  },
  {
   "cell_type": "code",
   "execution_count": 19,
   "metadata": {
    "deletable": false,
    "nbgrader": {
     "cell_type": "code",
     "checksum": "b4d1b58acae002bc73eb0b19f95bc4af",
     "grade": false,
     "grade_id": "cell-a0a9e6fe67698006",
     "locked": false,
     "schema_version": 3,
     "solution": true
    }
   },
   "outputs": [],
   "source": [
    "def chickenpox_by_sex():\n",
    "    import pandas as pd\n",
    "    dataframe=pd.read_csv(\"NISPUF17.csv\")\n",
    "    dataframe.columns=[x.lower().strip() for x in dataframe.columns]\n",
    "    \n",
    "    dataframeVaccinePoxMale=dataframe[(dataframe[\"had_cpox\"]==1) & (dataframe[\"p_numvrc\"]>0) & (dataframe[\"sex\"]==1)]\n",
    "    dataframeVaccinePoxFemale=dataframe[(dataframe[\"had_cpox\"]==1) & (dataframe[\"p_numvrc\"]>0) & (dataframe[\"sex\"]==2)]\n",
    "    dataframeVaccineNoPoxMale=dataframe[(dataframe[\"had_cpox\"]==2) & (dataframe[\"p_numvrc\"]>0) & (dataframe[\"sex\"]==1)]\n",
    "    dataframeVaccineNoPoxFemale=dataframe[(dataframe[\"had_cpox\"]==2) & (dataframe[\"p_numvrc\"]>0) & (dataframe[\"sex\"]==2)]\n",
    "    \n",
    "    lenghtDataframeVaccinePoxMale=len(dataframeVaccinePoxMale)\n",
    "    lenghtDataframeVaccineNoPoxMale=len(dataframeVaccineNoPoxMale)\n",
    "    lenghtDataframeVaccinePoxFemale=len(dataframeVaccinePoxFemale)\n",
    "    lenghtDataframeVaccineNoPoxFemale=len(dataframeVaccineNoPoxFemale)\n",
    "    \n",
    "    maleRatio=lenghtDataframeVaccinePoxMale/lenghtDataframeVaccineNoPoxMale\n",
    "    \n",
    "    femaleRatio=lenghtDataframeVaccinePoxFemale/lenghtDataframeVaccineNoPoxFemale\n",
    "    \n",
    "    supposedDictionary={\"male\":maleRatio,\n",
    "                        \"female\":femaleRatio}\n",
    "    \n",
    "    return(supposedDictionary)\n",
    "   \n",
    "    raise NotImplementedError()"
   ]
  },
  {
   "cell_type": "code",
   "execution_count": 20,
   "metadata": {
    "deletable": false,
    "editable": false,
    "nbgrader": {
     "cell_type": "code",
     "checksum": "1b6a113a633c55699ae478a3a9ee9c33",
     "grade": true,
     "grade_id": "cell-c4f1714db100c865",
     "locked": true,
     "points": 1,
     "schema_version": 3,
     "solution": false
    }
   },
   "outputs": [],
   "source": [
    "assert len(chickenpox_by_sex())==2, \"Return a dictionary with two items, the first for males and the second for females.\"\n"
   ]
  },
  {
   "cell_type": "markdown",
   "metadata": {},
   "source": [
    "## Question 4\n",
    "A correlation is a statistical relationship between two variables. If we wanted to know if vaccines work, we might look at the correlation between the use of the vaccine and whether it results in prevention of the infection or disease [1]. In this question, you are to see if there is a correlation between having had the chicken pox and the number of chickenpox vaccine doses given (varicella).\n",
    "\n",
    "Some notes on interpreting the answer. The `had_chickenpox_column` is either `1` (for yes) or `2` (for no), and the `num_chickenpox_vaccine_column` is the number of doses a child has been given of the varicella vaccine. A positive correlation (e.g., `corr > 0`) means that an increase in `had_chickenpox_column` (which means more no’s) would also increase the values of `num_chickenpox_vaccine_column` (which means more doses of vaccine). If there is a negative correlation (e.g., `corr < 0`), it indicates that having had chickenpox is related to an increase in the number of vaccine doses.\n",
    "\n",
    "Also, `pval` is the probability that we observe a correlation between `had_chickenpox_column` and `num_chickenpox_vaccine_column` which is greater than or equal to a particular value occurred by chance. A small `pval` means that the observed correlation is highly unlikely to occur by chance. In this case, `pval` should be very small (will end in `e-18` indicating a very small number).\n",
    "\n",
    "[1] This isn’t really the full picture, since we are not looking at when the dose was given. It’s possible that children had chickenpox and then their parents went to get them the vaccine. Does this dataset have the data we would need to investigate the timing of the dose?"
   ]
  },
  {
   "cell_type": "code",
   "execution_count": 20,
   "metadata": {
    "deletable": false,
    "nbgrader": {
     "cell_type": "code",
     "checksum": "3e645859949447913cd11d30eb33cb1e",
     "grade": false,
     "grade_id": "cell-8afff07f564cf79a",
     "locked": false,
     "schema_version": 3,
     "solution": true
    }
   },
   "outputs": [],
   "source": [
    "def corr_chickenpox():\n",
    "    import scipy.stats as stats\n",
    "    import numpy as np\n",
    "    import pandas as pd\n",
    "    \n",
    "    sampleDataFrame=pd.read_csv(\"assets/NISPUF17.csv\",index_col=0)\n",
    "    sampleDataFrame.columns=[x.lower().strip() for x in sampleDataFrame.columns]\n",
    "    # this is just an example dataframe\n",
    "    df=sampleDataFrame[((sampleDataFrame[\"had_cpox\"]==1) | (sampleDataFrame[\"had_cpox\"]==2)) & ((sampleDataFrame[\"p_numvrc\"]==1) | (sampleDataFrame[\"p_numvrc\"]==2) | (sampleDataFrame[\"p_numvrc\"]==3) | (sampleDataFrame[\"p_numvrc\"]==4) | (sampleDataFrame[\"p_numvrc\"]==5))]\n",
    "\n",
    "    # here is some stub code to actually run the correlation\n",
    "    corr, pval=stats.pearsonr(df[\"had_cpox\"],df[\"p_numvrc\"])\n",
    "    \n",
    "    # just return the correlation\n",
    "    #return corr\n",
    "    print(corr)\n",
    "    return(corr)\n",
    "    \n",
    "    raise NotImplementedError()"
   ]
  },
  {
   "cell_type": "code",
   "execution_count": 21,
   "metadata": {
    "deletable": false,
    "editable": false,
    "nbgrader": {
     "cell_type": "code",
     "checksum": "ac50ccb747b99f6bbcc76da017e66528",
     "grade": true,
     "grade_id": "cell-73408733533a29a5",
     "locked": true,
     "points": 1,
     "schema_version": 3,
     "solution": false
    }
   },
   "outputs": [
    {
     "name": "stdout",
     "output_type": "stream",
     "text": [
      "-0.013337081886400374\n"
     ]
    }
   ],
   "source": [
    "assert -1<=corr_chickenpox()<=1, \"You must return a float number between -1.0 and 1.0.\"\n"
   ]
  },
  {
   "cell_type": "code",
   "execution_count": null,
   "metadata": {},
   "outputs": [],
   "source": []
  }
 ],
 "metadata": {
  "anaconda-cloud": {},
  "coursera": {
   "schema_names": [
    "mooc_adswpy_v1_assignment2"
   ]
  },
  "hide_code_all_hidden": false,
  "kernelspec": {
   "display_name": "Python 3 (ipykernel)",
   "language": "python",
   "name": "python3"
  },
  "language_info": {
   "codemirror_mode": {
    "name": "ipython",
    "version": 3
   },
   "file_extension": ".py",
   "mimetype": "text/x-python",
   "name": "python",
   "nbconvert_exporter": "python",
   "pygments_lexer": "ipython3",
   "version": "3.9.13"
  }
 },
 "nbformat": 4,
 "nbformat_minor": 4
}
